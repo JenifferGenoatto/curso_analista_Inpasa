{
 "cells": [
  {
   "cell_type": "markdown",
   "id": "c537c75c-7565-4c1c-9fbd-6823a876e03d",
   "metadata": {},
   "source": [
    "# VARIAVEIS"
   ]
  },
  {
   "cell_type": "code",
   "execution_count": 1,
   "id": "eada5349-360d-44da-9b41-4110e291e1a8",
   "metadata": {},
   "outputs": [],
   "source": [
    "nome = 'Jeniffer'  # str\n",
    "idade = 20 # int\n",
    "endereco = 'rua teste'  # str\n",
    "altura = 1.70  #float\n",
    "variavel_verdade = True  # booleano"
   ]
  },
  {
   "cell_type": "markdown",
   "id": "06bb700c-8a76-4789-ab5b-38d49d8a5037",
   "metadata": {},
   "source": [
    "# CONSTANTES"
   ]
  },
  {
   "cell_type": "code",
   "execution_count": 5,
   "id": "69f9c353-d5c2-4fc5-9439-669f1b7ea490",
   "metadata": {},
   "outputs": [],
   "source": [
    "PI = 3.14\n",
    "E = 2.71"
   ]
  },
  {
   "cell_type": "markdown",
   "id": "7ac5bb95-dc95-4593-87c7-23c01c67d0c7",
   "metadata": {},
   "source": [
    "# OPERACOES"
   ]
  },
  {
   "cell_type": "code",
   "execution_count": 11,
   "id": "940f1555-f19f-41e1-9f29-d997b8e8773b",
   "metadata": {},
   "outputs": [
    {
     "data": {
      "text/plain": [
       "11"
      ]
     },
     "execution_count": 11,
     "metadata": {},
     "output_type": "execute_result"
    }
   ],
   "source": [
    "5 + 6"
   ]
  },
  {
   "cell_type": "code",
   "execution_count": 13,
   "id": "5cb67442-aaa8-4d36-8a84-a9d284cdd5ef",
   "metadata": {},
   "outputs": [
    {
     "data": {
      "text/plain": [
       "30"
      ]
     },
     "execution_count": 13,
     "metadata": {},
     "output_type": "execute_result"
    }
   ],
   "source": [
    "5 * 6"
   ]
  },
  {
   "cell_type": "code",
   "execution_count": 15,
   "id": "b6128a43-9b1c-4ff6-b637-9cfff07ef08b",
   "metadata": {},
   "outputs": [
    {
     "data": {
      "text/plain": [
       "0.8333333333333334"
      ]
     },
     "execution_count": 15,
     "metadata": {},
     "output_type": "execute_result"
    }
   ],
   "source": [
    "5 / 6"
   ]
  },
  {
   "cell_type": "markdown",
   "id": "5f27afbf-6954-4497-b895-2f13df05eadf",
   "metadata": {},
   "source": [
    "# POTENCIA"
   ]
  },
  {
   "cell_type": "code",
   "execution_count": 17,
   "id": "0fc06ea7-671f-46f6-ac02-937db6fb3f43",
   "metadata": {},
   "outputs": [
    {
     "data": {
      "text/plain": [
       "16"
      ]
     },
     "execution_count": 17,
     "metadata": {},
     "output_type": "execute_result"
    }
   ],
   "source": [
    "4**2"
   ]
  },
  {
   "cell_type": "markdown",
   "id": "0f33daa1-ed60-4107-a016-a76cb1c2beec",
   "metadata": {},
   "source": [
    "# RESTO DIVISAO"
   ]
  },
  {
   "cell_type": "code",
   "execution_count": 21,
   "id": "a1060a68-e1e8-4dbc-bcdc-8415c96fb95e",
   "metadata": {},
   "outputs": [
    {
     "data": {
      "text/plain": [
       "0"
      ]
     },
     "execution_count": 21,
     "metadata": {},
     "output_type": "execute_result"
    }
   ],
   "source": [
    "4%2"
   ]
  },
  {
   "cell_type": "code",
   "execution_count": 23,
   "id": "82739b6a-1f1d-47d2-97e4-035705e34831",
   "metadata": {},
   "outputs": [
    {
     "data": {
      "text/plain": [
       "1"
      ]
     },
     "execution_count": 23,
     "metadata": {},
     "output_type": "execute_result"
    }
   ],
   "source": [
    "6%5"
   ]
  },
  {
   "cell_type": "code",
   "execution_count": 25,
   "id": "4bf58a2b-0e15-4b8a-b182-853f70a06afe",
   "metadata": {},
   "outputs": [
    {
     "data": {
      "text/plain": [
       "1.2"
      ]
     },
     "execution_count": 25,
     "metadata": {},
     "output_type": "execute_result"
    }
   ],
   "source": [
    "6/5"
   ]
  },
  {
   "cell_type": "markdown",
   "id": "c940aa2c-579d-4b86-9c5b-b28e44a4e614",
   "metadata": {},
   "source": [
    "# DIVISAO INTEIRA"
   ]
  },
  {
   "cell_type": "code",
   "execution_count": 27,
   "id": "e8106208-1281-4c1d-a77b-c418f8f4eb23",
   "metadata": {},
   "outputs": [
    {
     "data": {
      "text/plain": [
       "1"
      ]
     },
     "execution_count": 27,
     "metadata": {},
     "output_type": "execute_result"
    }
   ],
   "source": [
    "6//5"
   ]
  },
  {
   "cell_type": "markdown",
   "id": "572ce588-f9b5-4b91-a0d2-13c7af7de128",
   "metadata": {},
   "source": [
    "# EXPRESSOES"
   ]
  },
  {
   "cell_type": "code",
   "execution_count": 33,
   "id": "1b0e8a61-55be-42d0-aec0-eb45e23006a7",
   "metadata": {},
   "outputs": [
    {
     "data": {
      "text/plain": [
       "9"
      ]
     },
     "execution_count": 33,
     "metadata": {},
     "output_type": "execute_result"
    }
   ],
   "source": [
    "6*3-9"
   ]
  },
  {
   "cell_type": "code",
   "execution_count": 35,
   "id": "c92d1212-9811-42fa-a974-6fcf0f31c6c9",
   "metadata": {},
   "outputs": [
    {
     "data": {
      "text/plain": [
       "270.8"
      ]
     },
     "execution_count": 35,
     "metadata": {},
     "output_type": "execute_result"
    }
   ],
   "source": [
    "7**3-78+34/5-(5//3)"
   ]
  },
  {
   "cell_type": "markdown",
   "id": "647e258f-62c0-4392-8d52-66359a12beb9",
   "metadata": {},
   "source": [
    "# FLUXO CONDICIONAL"
   ]
  },
  {
   "cell_type": "code",
   "execution_count": 38,
   "id": "2a9372a1-c799-4ac3-906f-6c1f109737d5",
   "metadata": {},
   "outputs": [
    {
     "name": "stdout",
     "output_type": "stream",
     "text": [
      "É menor!\n"
     ]
    }
   ],
   "source": [
    "variavel1 = 45\n",
    "if variavel1 < 50:\n",
    "    print('É menor!')\n",
    "else:\n",
    "    print('É maior!')"
   ]
  },
  {
   "cell_type": "code",
   "execution_count": 46,
   "id": "6bcdaf0f-41d0-4433-aa5b-e23acb07c6ea",
   "metadata": {},
   "outputs": [
    {
     "name": "stdout",
     "output_type": "stream",
     "text": [
      "É diferente!\n"
     ]
    }
   ],
   "source": [
    "variavel2 = 67.88\n",
    "if variavel2 == 50:\n",
    "    print('É igual!')\n",
    "else:\n",
    "    print('É diferente!')"
   ]
  },
  {
   "cell_type": "code",
   "execution_count": 48,
   "id": "54577998-332c-4051-af8e-b24c50608bb3",
   "metadata": {},
   "outputs": [
    {
     "name": "stdout",
     "output_type": "stream",
     "text": [
      "É igual!\n"
     ]
    }
   ],
   "source": [
    "variavel3 = 67.88\n",
    "if variavel2 != 67.88:\n",
    "    print('É diferente!')\n",
    "else:\n",
    "    print('É igual!')"
   ]
  },
  {
   "cell_type": "code",
   "execution_count": 52,
   "id": "f9f51c8e-a47f-499f-a86d-32c62a5bafb8",
   "metadata": {},
   "outputs": [
    {
     "name": "stdout",
     "output_type": "stream",
     "text": [
      "45\n"
     ]
    }
   ],
   "source": [
    "print (variavel1)"
   ]
  },
  {
   "cell_type": "code",
   "execution_count": 56,
   "id": "6f0e4011-373e-47fc-ae36-9beaaf89ecfc",
   "metadata": {},
   "outputs": [
    {
     "name": "stdout",
     "output_type": "stream",
     "text": [
      "1 é menor que 2\n"
     ]
    }
   ],
   "source": [
    "if variavel1 == variavel2:\n",
    "    print('são iguais')\n",
    "elif variavel1 < variavel2:\n",
    "    print ('1 é menor que 2')\n",
    "else:\n",
    "    print ('1 é maior que 2')"
   ]
  },
  {
   "cell_type": "code",
   "execution_count": 59,
   "id": "e7457ee0-315e-4c14-998b-3b11bd4940f1",
   "metadata": {},
   "outputs": [],
   "source": [
    "# INSS"
   ]
  },
  {
   "cell_type": "code",
   "execution_count": 77,
   "id": "bc87fbbe-df72-4b5d-844a-b8b313182159",
   "metadata": {},
   "outputs": [
    {
     "name": "stdin",
     "output_type": "stream",
     "text": [
      "Insira o salario bruto:  5000\n"
     ]
    },
    {
     "name": "stdout",
     "output_type": "stream",
     "text": [
      "O desconto do INSS é de 518.82 para o salario 5000.00.\n"
     ]
    }
   ],
   "source": [
    "salario = float(input('Insira o salario bruto: '))\n",
    "\n",
    "if salario <= 1412:\n",
    "    inss = salario*0.075\n",
    "elif salario > 1412 and salario <= 2666.68:\n",
    "    inss = salario*0.09\n",
    "    inss = inss - 21.18\n",
    "elif salario > 2666.68 and salario <= 4000.03:\n",
    "    inss = salario*0.12\n",
    "    inss = inss - 101.18\n",
    "else:\n",
    "    inss = salario*0.14\n",
    "    inss = inss - 181.18\n",
    "\n",
    "print (f'O desconto do INSS é de {round(inss,2)} para o salario {salario:.2f}.')"
   ]
  },
  {
   "cell_type": "markdown",
   "id": "576726fc-a2c8-466a-ad52-32f020e26f4b",
   "metadata": {},
   "source": [
    "# FLUXO REPETIÇÃO"
   ]
  },
  {
   "cell_type": "code",
   "execution_count": null,
   "id": "d73b38d2-747b-4944-8af1-b73a1a766f59",
   "metadata": {},
   "outputs": [],
   "source": [
    "# FOR - WHILE"
   ]
  },
  {
   "cell_type": "code",
   "execution_count": 79,
   "id": "d78ffeb3-3fff-4fb4-bc0b-babeb0f79146",
   "metadata": {},
   "outputs": [],
   "source": [
    "lista_de_nomes = ['Pedro', 'Rafael', 'Beatriz', 'Ana', 'Maria']"
   ]
  },
  {
   "cell_type": "code",
   "execution_count": 89,
   "id": "9cf6e21c-d419-4389-adea-81f3766f4317",
   "metadata": {},
   "outputs": [
    {
     "data": {
      "text/plain": [
       "'Ana'"
      ]
     },
     "execution_count": 89,
     "metadata": {},
     "output_type": "execute_result"
    }
   ],
   "source": [
    "lista_de_nomes[3]"
   ]
  },
  {
   "cell_type": "code",
   "execution_count": 85,
   "id": "efa205e3-d5e3-4330-b0d8-fde0a7d0abde",
   "metadata": {},
   "outputs": [],
   "source": [
    "tamanho_da_lista = len(lista_de_nomes)"
   ]
  },
  {
   "cell_type": "code",
   "execution_count": 87,
   "id": "a43d21f7-fefd-4426-8665-c40041bef454",
   "metadata": {},
   "outputs": [
    {
     "name": "stdout",
     "output_type": "stream",
     "text": [
      "Pedro\n",
      "Rafael\n",
      "Beatriz\n",
      "Ana\n",
      "Maria\n"
     ]
    }
   ],
   "source": [
    "for i in range(tamanho_da_lista):\n",
    "    print(lista_de_nomes[i])    "
   ]
  },
  {
   "cell_type": "code",
   "execution_count": 81,
   "id": "e425fd4c-d87e-47cd-ac21-17ff59f56a2f",
   "metadata": {},
   "outputs": [
    {
     "name": "stdout",
     "output_type": "stream",
     "text": [
      "Pedro\n",
      "Rafael\n",
      "Beatriz\n",
      "Ana\n",
      "Maria\n"
     ]
    }
   ],
   "source": [
    "for i in lista_de_nomes:\n",
    "    print(i)"
   ]
  },
  {
   "cell_type": "code",
   "execution_count": 91,
   "id": "9a4b0f45-6be8-48c4-86d0-7f88f0458b08",
   "metadata": {},
   "outputs": [
    {
     "name": "stdout",
     "output_type": "stream",
     "text": [
      "Pedro\n",
      "Rafael\n"
     ]
    }
   ],
   "source": [
    "for i in range(2):\n",
    "    print(lista_de_nomes[i])   "
   ]
  },
  {
   "cell_type": "code",
   "execution_count": 93,
   "id": "cc354d06-0be7-4ac2-adef-db5f8953e302",
   "metadata": {},
   "outputs": [
    {
     "name": "stdout",
     "output_type": "stream",
     "text": [
      "Pedro\n",
      "Rafael\n"
     ]
    }
   ],
   "source": [
    "for i in range(0,2):\n",
    "    print(lista_de_nomes[i]) "
   ]
  },
  {
   "cell_type": "code",
   "execution_count": 95,
   "id": "656f2038-926d-4b7f-80e6-8c035d531b9d",
   "metadata": {},
   "outputs": [
    {
     "name": "stdout",
     "output_type": "stream",
     "text": [
      "PEDRO\n",
      "RAFAEL\n"
     ]
    }
   ],
   "source": [
    "for i in range(0,2):\n",
    "    print(lista_de_nomes[i].upper()) "
   ]
  },
  {
   "cell_type": "code",
   "execution_count": 97,
   "id": "54760f1b-1877-43a2-86d7-f186f0f11609",
   "metadata": {},
   "outputs": [
    {
     "name": "stdout",
     "output_type": "stream",
     "text": [
      "pedro\n",
      "rafael\n"
     ]
    }
   ],
   "source": [
    "for i in range(0,2):\n",
    "    print(lista_de_nomes[i].lower())"
   ]
  },
  {
   "cell_type": "code",
   "execution_count": 99,
   "id": "8593cbc1-be66-4185-859c-4897134771ea",
   "metadata": {},
   "outputs": [
    {
     "name": "stdout",
     "output_type": "stream",
     "text": [
      "['Pedro', 'Rafael', 'Beatriz', 'Ana', 'Maria']\n"
     ]
    }
   ],
   "source": [
    "print (lista_de_nomes)"
   ]
  },
  {
   "cell_type": "markdown",
   "id": "a437adc9-f1f7-40f6-99af-7f64a0571c27",
   "metadata": {},
   "source": [
    "# WHILE"
   ]
  },
  {
   "cell_type": "code",
   "execution_count": 108,
   "id": "4e2377ea-3fa2-43f7-8fad-3e655c569f5d",
   "metadata": {},
   "outputs": [],
   "source": [
    "lista_de_nomes = ['pedro', 'rafael', 'beatriz', 'ana', 'maria']"
   ]
  },
  {
   "cell_type": "code",
   "execution_count": 110,
   "id": "c296a595-8a90-4a48-b3d1-570a6869c2fa",
   "metadata": {},
   "outputs": [],
   "source": [
    "tamanho_da_lista = len(lista_de_nomes)"
   ]
  },
  {
   "cell_type": "code",
   "execution_count": 112,
   "id": "c2136f5f-daee-4f8f-9595-9daf71635190",
   "metadata": {},
   "outputs": [
    {
     "name": "stdout",
     "output_type": "stream",
     "text": [
      "Pedro\n",
      "Rafael\n",
      "Beatriz\n",
      "Ana\n",
      "Maria\n"
     ]
    }
   ],
   "source": [
    "indice = 0\n",
    "while indice < tamanho_da_lista:\n",
    "    print(lista_de_nomes[indice].capitalize())\n",
    "    #indice = indice + 1\n",
    "    indice += 1"
   ]
  },
  {
   "cell_type": "code",
   "execution_count": 116,
   "id": "8bf3ca6e-0abd-4ae5-a7bd-0cba1f503fa2",
   "metadata": {},
   "outputs": [],
   "source": [
    "lista_valores = [3.2, 1.5, 8.7, 9.4, 23.5, 12.2, 0.58, 9.0]\n",
    "tamanho_lista_valores = len(lista_valores)\n",
    "for i in range(tamanho_lista_valores):\n",
    "    lista_valores[i]**3 - lista_valores[i]**2"
   ]
  },
  {
   "cell_type": "code",
   "execution_count": 118,
   "id": "6d089f20-53a8-44db-865f-d9e9ee94719b",
   "metadata": {},
   "outputs": [],
   "source": [
    "lista_valores = [3.2, 1.5, 8.7, 9.4, 23.5, 12.2, 0.58, 9.0]\n",
    "tamanho_lista_valores = len(lista_valores)\n",
    "for i in range(tamanho_lista_valores):\n",
    "    lista_valores[i]**3 - lista_valores[i]**2"
   ]
  },
  {
   "cell_type": "code",
   "execution_count": 122,
   "id": "dbcc878b-523a-4499-91e4-4349715f8593",
   "metadata": {},
   "outputs": [
    {
     "name": "stdout",
     "output_type": "stream",
     "text": [
      "[22.53, 1.12, 582.81, 742.22, 12425.62, 1667.01, -0.14, 648.0]\n"
     ]
    }
   ],
   "source": [
    "lista_valores = [3.2, 1.5, 8.7, 9.4, 23.5, 12.2, 0.58, 9.0]\n",
    "tamanho_lista_valores = len(lista_valores)\n",
    "lista_resultados = []\n",
    "for i in range(tamanho_lista_valores):\n",
    "    resultado = round(lista_valores[i]**3 - lista_valores[i]**2, 2)\n",
    "    lista_resultados.append(resultado)\n",
    "print(lista_resultados)"
   ]
  },
  {
   "cell_type": "markdown",
   "id": "b78fddb7-095f-4cb9-9273-3d0c3efeec14",
   "metadata": {},
   "source": [
    "# BUSCAR ELEMENTO"
   ]
  },
  {
   "cell_type": "code",
   "execution_count": 126,
   "id": "4c4ce7fc-6901-4a2f-aab9-2e3a8a77b1e6",
   "metadata": {},
   "outputs": [
    {
     "name": "stdout",
     "output_type": "stream",
     "text": [
      "A posição do elemento na lista é: 5\n"
     ]
    }
   ],
   "source": [
    "for i in range(len(lista_resultados)):\n",
    "    if lista_resultados[i] == 1667.01:\n",
    "        print(f'A posição do elemento na lista é: {i}')"
   ]
  },
  {
   "cell_type": "code",
   "execution_count": 128,
   "id": "30d3e8c7-8349-4e10-8cf2-62fd6ff6526a",
   "metadata": {},
   "outputs": [
    {
     "data": {
      "text/plain": [
       "5"
      ]
     },
     "execution_count": 128,
     "metadata": {},
     "output_type": "execute_result"
    }
   ],
   "source": [
    "lista_resultados.index(1667.01)"
   ]
  },
  {
   "cell_type": "markdown",
   "id": "a1bc9d10-d866-4c63-ab46-acddc24bd77c",
   "metadata": {},
   "source": [
    "# FUNCOES"
   ]
  },
  {
   "cell_type": "code",
   "execution_count": 3,
   "id": "ea936fe8-37ec-411b-b7bb-1ef62bcfc5a8",
   "metadata": {},
   "outputs": [],
   "source": [
    "def calcular_media(a, b, c, d):\n",
    "    soma = a + b + c + d\n",
    "    media = soma / 4\n",
    "    return media"
   ]
  },
  {
   "cell_type": "code",
   "execution_count": 5,
   "id": "343507a3-e8ab-49e7-8351-f0d4c97f31ac",
   "metadata": {},
   "outputs": [
    {
     "data": {
      "text/plain": [
       "5.5"
      ]
     },
     "execution_count": 5,
     "metadata": {},
     "output_type": "execute_result"
    }
   ],
   "source": [
    "calcular_media(4,5,6,7)"
   ]
  },
  {
   "cell_type": "code",
   "execution_count": 7,
   "id": "d25777c3-31b2-4d67-a3f7-095796497e0f",
   "metadata": {},
   "outputs": [],
   "source": [
    "media = calcular_media(4,5,6,7)"
   ]
  },
  {
   "cell_type": "code",
   "execution_count": 11,
   "id": "0178a6d4-d474-4417-900a-f84a968eba3c",
   "metadata": {},
   "outputs": [
    {
     "name": "stdout",
     "output_type": "stream",
     "text": [
      "A media é 5.5\n"
     ]
    }
   ],
   "source": [
    "print(f'A media é {media}')"
   ]
  },
  {
   "cell_type": "code",
   "execution_count": 21,
   "id": "8f1cde04-bb56-4058-9fbf-80e114f36b4b",
   "metadata": {},
   "outputs": [],
   "source": [
    "from Funcoes import calcular_inss"
   ]
  },
  {
   "cell_type": "code",
   "execution_count": 23,
   "id": "a3ea7be3-e0cb-444d-bf48-310919227b8e",
   "metadata": {},
   "outputs": [
    {
     "ename": "NameError",
     "evalue": "name 'salario' is not defined",
     "output_type": "error",
     "traceback": [
      "\u001b[1;31m---------------------------------------------------------------------------\u001b[0m",
      "\u001b[1;31mNameError\u001b[0m                                 Traceback (most recent call last)",
      "Cell \u001b[1;32mIn[23], line 1\u001b[0m\n\u001b[1;32m----> 1\u001b[0m calcular_inss(\u001b[38;5;241m3000\u001b[39m)\n",
      "File \u001b[1;32m~\\Documents\\CURSO_ANALISTA_DADOS\\Funcoes.py:3\u001b[0m, in \u001b[0;36mcalcular_inss\u001b[1;34m(salario_bruto)\u001b[0m\n\u001b[0;32m      1\u001b[0m \u001b[38;5;28;01mdef\u001b[39;00m \u001b[38;5;21mcalcular_inss\u001b[39m(salario_bruto):\n\u001b[1;32m----> 3\u001b[0m     \u001b[38;5;28;01mif\u001b[39;00m salario \u001b[38;5;241m<\u001b[39m\u001b[38;5;241m=\u001b[39m \u001b[38;5;241m1412\u001b[39m:\n\u001b[0;32m      4\u001b[0m         inss \u001b[38;5;241m=\u001b[39m salario\u001b[38;5;241m*\u001b[39m\u001b[38;5;241m0.075\u001b[39m\n\u001b[0;32m      5\u001b[0m     \u001b[38;5;28;01melif\u001b[39;00m salario \u001b[38;5;241m>\u001b[39m \u001b[38;5;241m1412\u001b[39m \u001b[38;5;129;01mand\u001b[39;00m salario \u001b[38;5;241m<\u001b[39m\u001b[38;5;241m=\u001b[39m \u001b[38;5;241m2666.68\u001b[39m:\n",
      "\u001b[1;31mNameError\u001b[0m: name 'salario' is not defined"
     ]
    }
   ],
   "source": [
    "calcular_inss(3000)"
   ]
  },
  {
   "cell_type": "code",
   "execution_count": 27,
   "id": "feef3ef5-eb2a-49ab-afcb-f0356dcbd8b8",
   "metadata": {},
   "outputs": [
    {
     "ename": "NameError",
     "evalue": "name 'salario' is not defined",
     "output_type": "error",
     "traceback": [
      "\u001b[1;31m---------------------------------------------------------------------------\u001b[0m",
      "\u001b[1;31mNameError\u001b[0m                                 Traceback (most recent call last)",
      "Cell \u001b[1;32mIn[27], line 1\u001b[0m\n\u001b[1;32m----> 1\u001b[0m calcular_inss(\u001b[38;5;241m3000\u001b[39m)\n",
      "File \u001b[1;32m~\\Documents\\CURSO_ANALISTA_DADOS\\Funcoes.py:3\u001b[0m, in \u001b[0;36mcalcular_inss\u001b[1;34m(salario_bruto)\u001b[0m\n\u001b[0;32m      1\u001b[0m \u001b[38;5;28;01mdef\u001b[39;00m \u001b[38;5;21mcalcular_inss\u001b[39m(salario_bruto):\n\u001b[1;32m----> 3\u001b[0m     \u001b[38;5;28;01mif\u001b[39;00m salario \u001b[38;5;241m<\u001b[39m\u001b[38;5;241m=\u001b[39m \u001b[38;5;241m1412\u001b[39m:\n\u001b[0;32m      4\u001b[0m         inss \u001b[38;5;241m=\u001b[39m salario\u001b[38;5;241m*\u001b[39m\u001b[38;5;241m0.075\u001b[39m\n\u001b[0;32m      5\u001b[0m     \u001b[38;5;28;01melif\u001b[39;00m salario \u001b[38;5;241m>\u001b[39m \u001b[38;5;241m1412\u001b[39m \u001b[38;5;129;01mand\u001b[39;00m salario \u001b[38;5;241m<\u001b[39m\u001b[38;5;241m=\u001b[39m \u001b[38;5;241m2666.68\u001b[39m:\n",
      "\u001b[1;31mNameError\u001b[0m: name 'salario' is not defined"
     ]
    }
   ],
   "source": [
    "calcular_inss(3000)"
   ]
  },
  {
   "cell_type": "code",
   "execution_count": 31,
   "id": "5cc3e1b7-6139-42f7-acd7-4b0431f9b6a6",
   "metadata": {},
   "outputs": [],
   "source": [
    "from Funcoes import calcular_inss"
   ]
  },
  {
   "cell_type": "code",
   "execution_count": 33,
   "id": "ae336760-15f9-482f-b8c1-b46d8030fbd3",
   "metadata": {},
   "outputs": [
    {
     "ename": "NameError",
     "evalue": "name 'salario' is not defined",
     "output_type": "error",
     "traceback": [
      "\u001b[1;31m---------------------------------------------------------------------------\u001b[0m",
      "\u001b[1;31mNameError\u001b[0m                                 Traceback (most recent call last)",
      "Cell \u001b[1;32mIn[33], line 1\u001b[0m\n\u001b[1;32m----> 1\u001b[0m calcular_inss(\u001b[38;5;241m3000\u001b[39m)\n",
      "File \u001b[1;32m~\\Documents\\CURSO_ANALISTA_DADOS\\Funcoes.py:3\u001b[0m, in \u001b[0;36mcalcular_inss\u001b[1;34m(salario_bruto)\u001b[0m\n\u001b[0;32m      1\u001b[0m \u001b[38;5;28;01mdef\u001b[39;00m \u001b[38;5;21mcalcular_inss\u001b[39m(salario_bruto):\n\u001b[1;32m----> 3\u001b[0m     \u001b[38;5;28;01mif\u001b[39;00m salario \u001b[38;5;241m<\u001b[39m\u001b[38;5;241m=\u001b[39m \u001b[38;5;241m1412\u001b[39m:\n\u001b[0;32m      4\u001b[0m         inss \u001b[38;5;241m=\u001b[39m salario\u001b[38;5;241m*\u001b[39m\u001b[38;5;241m0.075\u001b[39m\n\u001b[0;32m      5\u001b[0m     \u001b[38;5;28;01melif\u001b[39;00m salario \u001b[38;5;241m>\u001b[39m \u001b[38;5;241m1412\u001b[39m \u001b[38;5;129;01mand\u001b[39;00m salario \u001b[38;5;241m<\u001b[39m\u001b[38;5;241m=\u001b[39m \u001b[38;5;241m2666.68\u001b[39m:\n",
      "\u001b[1;31mNameError\u001b[0m: name 'salario' is not defined"
     ]
    }
   ],
   "source": [
    "calcular_inss(3000)"
   ]
  },
  {
   "cell_type": "code",
   "execution_count": 38,
   "id": "d5966f50-f66b-4eb4-926b-64e69f98116e",
   "metadata": {},
   "outputs": [],
   "source": [
    "from Funcoes import calcular_inss"
   ]
  },
  {
   "cell_type": "code",
   "execution_count": 40,
   "id": "f804199c-8f7a-4ff9-a32d-130bbbb15a5b",
   "metadata": {},
   "outputs": [
    {
     "ename": "NameError",
     "evalue": "name 'salario' is not defined",
     "output_type": "error",
     "traceback": [
      "\u001b[1;31m---------------------------------------------------------------------------\u001b[0m",
      "\u001b[1;31mNameError\u001b[0m                                 Traceback (most recent call last)",
      "Cell \u001b[1;32mIn[40], line 1\u001b[0m\n\u001b[1;32m----> 1\u001b[0m calcular_inss(\u001b[38;5;241m3000\u001b[39m)\n",
      "File \u001b[1;32m~\\Documents\\CURSO_ANALISTA_DADOS\\Funcoes.py:3\u001b[0m, in \u001b[0;36mcalcular_inss\u001b[1;34m(salario_bruto)\u001b[0m\n\u001b[0;32m      1\u001b[0m \u001b[38;5;28;01mdef\u001b[39;00m \u001b[38;5;21mcalcular_inss\u001b[39m(salario_bruto):\n\u001b[1;32m----> 3\u001b[0m     \u001b[38;5;28;01mif\u001b[39;00m salario \u001b[38;5;241m<\u001b[39m\u001b[38;5;241m=\u001b[39m \u001b[38;5;241m1412\u001b[39m:\n\u001b[0;32m      4\u001b[0m         inss \u001b[38;5;241m=\u001b[39m salario\u001b[38;5;241m*\u001b[39m\u001b[38;5;241m0.075\u001b[39m\n\u001b[0;32m      5\u001b[0m     \u001b[38;5;28;01melif\u001b[39;00m salario \u001b[38;5;241m>\u001b[39m \u001b[38;5;241m1412\u001b[39m \u001b[38;5;129;01mand\u001b[39;00m salario \u001b[38;5;241m<\u001b[39m\u001b[38;5;241m=\u001b[39m \u001b[38;5;241m2666.68\u001b[39m:\n",
      "\u001b[1;31mNameError\u001b[0m: name 'salario' is not defined"
     ]
    }
   ],
   "source": [
    "calcular_inss(3000)"
   ]
  },
  {
   "cell_type": "markdown",
   "id": "405ca222-b866-4b17-a823-e5d15b3ddbe8",
   "metadata": {},
   "source": [
    "# usar funcoes em arquivos .py"
   ]
  },
  {
   "cell_type": "code",
   "execution_count": 9,
   "id": "19e46f1b-9f1c-48c4-8d77-721da466f4d5",
   "metadata": {},
   "outputs": [],
   "source": [
    "from Funcoes import calcular_inss"
   ]
  },
  {
   "cell_type": "code",
   "execution_count": 11,
   "id": "18453991-98dc-43c1-a090-7939d23a2c8f",
   "metadata": {},
   "outputs": [
    {
     "data": {
      "text/plain": [
       "258.82"
      ]
     },
     "execution_count": 11,
     "metadata": {},
     "output_type": "execute_result"
    }
   ],
   "source": [
    "calcular_inss(3000)"
   ]
  },
  {
   "cell_type": "code",
   "execution_count": 13,
   "id": "98f28b75-83cf-4d62-be3f-7efbe134f7aa",
   "metadata": {},
   "outputs": [],
   "source": [
    "from Funcoes import calcular_inss, calcular_ir"
   ]
  },
  {
   "cell_type": "code",
   "execution_count": 15,
   "id": "cd5ada4a-f97b-4d32-a030-4c8c9fe4746c",
   "metadata": {},
   "outputs": [
    {
     "data": {
      "text/plain": [
       "588.82"
      ]
     },
     "execution_count": 15,
     "metadata": {},
     "output_type": "execute_result"
    }
   ],
   "source": [
    "calcular_inss(5500)"
   ]
  },
  {
   "cell_type": "code",
   "execution_count": 17,
   "id": "b9e6d5b7-aea8-41a7-8b45-885d16fccd94",
   "metadata": {},
   "outputs": [
    {
     "data": {
      "text/plain": [
       "454.57"
      ]
     },
     "execution_count": 17,
     "metadata": {},
     "output_type": "execute_result"
    }
   ],
   "source": [
    "calcular_ir(5500)"
   ]
  },
  {
   "cell_type": "code",
   "execution_count": null,
   "id": "22cb9eca-3773-4da1-8aad-b51d811d54a8",
   "metadata": {},
   "outputs": [],
   "source": []
  }
 ],
 "metadata": {
  "kernelspec": {
   "display_name": "Python 3 (ipykernel)",
   "language": "python",
   "name": "python3"
  },
  "language_info": {
   "codemirror_mode": {
    "name": "ipython",
    "version": 3
   },
   "file_extension": ".py",
   "mimetype": "text/x-python",
   "name": "python",
   "nbconvert_exporter": "python",
   "pygments_lexer": "ipython3",
   "version": "3.12.4"
  }
 },
 "nbformat": 4,
 "nbformat_minor": 5
}
