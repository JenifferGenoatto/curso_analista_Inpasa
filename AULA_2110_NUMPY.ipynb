{
 "cells": [
  {
   "cell_type": "code",
   "execution_count": 8,
   "id": "72d0153e-b3ff-4d2c-b519-d06c17ba6f45",
   "metadata": {},
   "outputs": [],
   "source": [
    "import numpy as np\n",
    "import pandas as pd"
   ]
  },
  {
   "cell_type": "code",
   "execution_count": 9,
   "id": "d5ad75a4-2a54-4571-9a4c-8e805964665c",
   "metadata": {},
   "outputs": [
    {
     "data": {
      "text/plain": [
       "array([1, 2, 3, 4])"
      ]
     },
     "execution_count": 9,
     "metadata": {},
     "output_type": "execute_result"
    }
   ],
   "source": [
    "np.array([1,2,3,4])"
   ]
  },
  {
   "cell_type": "code",
   "execution_count": 10,
   "id": "347f0e65-5156-4bb1-b66d-879917dfdc3f",
   "metadata": {},
   "outputs": [
    {
     "data": {
      "text/plain": [
       "array([[1, 2, 3],\n",
       "       [4, 5, 6]])"
      ]
     },
     "execution_count": 10,
     "metadata": {},
     "output_type": "execute_result"
    }
   ],
   "source": [
    "np.array([[1,2,3], [4,5,6]])"
   ]
  },
  {
   "cell_type": "code",
   "execution_count": 11,
   "id": "dbd824fd-e00c-43f0-9730-9008f5863b1e",
   "metadata": {},
   "outputs": [],
   "source": [
    "matriz = np.array([[1,2,3], [4,5,6], [7,8,9]])"
   ]
  },
  {
   "cell_type": "code",
   "execution_count": 12,
   "id": "46ed5ef9-dfba-4ad7-9594-1e13c6862e40",
   "metadata": {},
   "outputs": [
    {
     "name": "stdout",
     "output_type": "stream",
     "text": [
      "[[1 2 3]\n",
      " [4 5 6]\n",
      " [7 8 9]]\n"
     ]
    }
   ],
   "source": [
    "print(matriz)"
   ]
  },
  {
   "cell_type": "code",
   "execution_count": 13,
   "id": "a4f79aba-0435-4c8d-9f5f-6c91059b75c3",
   "metadata": {},
   "outputs": [
    {
     "data": {
      "text/plain": [
       "6"
      ]
     },
     "execution_count": 13,
     "metadata": {},
     "output_type": "execute_result"
    }
   ],
   "source": [
    "matriz[1][2]"
   ]
  },
  {
   "cell_type": "code",
   "execution_count": 14,
   "id": "36298254-0f55-47db-ac34-c415c635f192",
   "metadata": {},
   "outputs": [
    {
     "data": {
      "text/plain": [
       "30"
      ]
     },
     "execution_count": 14,
     "metadata": {},
     "output_type": "execute_result"
    }
   ],
   "source": [
    "matriz[1][2] *5"
   ]
  },
  {
   "cell_type": "code",
   "execution_count": 15,
   "id": "3ab6390b-43e9-4c8b-8221-18fd2a49759d",
   "metadata": {},
   "outputs": [
    {
     "data": {
      "text/plain": [
       "array([1, 2, 3])"
      ]
     },
     "execution_count": 15,
     "metadata": {},
     "output_type": "execute_result"
    }
   ],
   "source": [
    "matriz [0][:]"
   ]
  },
  {
   "cell_type": "code",
   "execution_count": 16,
   "id": "dd0e1c0d-7c70-4eeb-8ece-e4e7849a8e89",
   "metadata": {},
   "outputs": [
    {
     "data": {
      "text/plain": [
       "array([2, 3])"
      ]
     },
     "execution_count": 16,
     "metadata": {},
     "output_type": "execute_result"
    }
   ],
   "source": [
    "matriz [0][1:]"
   ]
  },
  {
   "cell_type": "code",
   "execution_count": 17,
   "id": "94199757-3496-49f4-9398-fadc13d9515e",
   "metadata": {},
   "outputs": [
    {
     "data": {
      "text/plain": [
       "array([4, 5])"
      ]
     },
     "execution_count": 17,
     "metadata": {},
     "output_type": "execute_result"
    }
   ],
   "source": [
    "matriz [1][:2]"
   ]
  },
  {
   "cell_type": "code",
   "execution_count": 18,
   "id": "6394cc1c-2654-4a74-bbfd-7ce39fdfca0b",
   "metadata": {},
   "outputs": [
    {
     "data": {
      "text/plain": [
       "array([ 1. ,  1.2,  1.4,  1.6,  1.8,  2. ,  2.2,  2.4,  2.6,  2.8,  3. ,\n",
       "        3.2,  3.4,  3.6,  3.8,  4. ,  4.2,  4.4,  4.6,  4.8,  5. ,  5.2,\n",
       "        5.4,  5.6,  5.8,  6. ,  6.2,  6.4,  6.6,  6.8,  7. ,  7.2,  7.4,\n",
       "        7.6,  7.8,  8. ,  8.2,  8.4,  8.6,  8.8,  9. ,  9.2,  9.4,  9.6,\n",
       "        9.8, 10. , 10.2, 10.4, 10.6, 10.8, 11. , 11.2, 11.4, 11.6, 11.8,\n",
       "       12. , 12.2, 12.4, 12.6, 12.8, 13. , 13.2, 13.4, 13.6, 13.8, 14. ,\n",
       "       14.2, 14.4, 14.6, 14.8, 15. , 15.2, 15.4, 15.6, 15.8, 16. , 16.2,\n",
       "       16.4, 16.6, 16.8, 17. , 17.2, 17.4, 17.6, 17.8, 18. , 18.2, 18.4,\n",
       "       18.6, 18.8, 19. , 19.2, 19.4, 19.6, 19.8, 20. , 20.2, 20.4, 20.6,\n",
       "       20.8, 21. , 21.2, 21.4, 21.6, 21.8, 22. , 22.2, 22.4, 22.6, 22.8,\n",
       "       23. , 23.2, 23.4, 23.6, 23.8, 24. , 24.2, 24.4, 24.6, 24.8, 25. ,\n",
       "       25.2, 25.4, 25.6, 25.8])"
      ]
     },
     "execution_count": 18,
     "metadata": {},
     "output_type": "execute_result"
    }
   ],
   "source": [
    "np.arange(1,26, 0.2)"
   ]
  },
  {
   "cell_type": "code",
   "execution_count": 19,
   "id": "8fa892b0-a411-46be-abce-e88708419f91",
   "metadata": {},
   "outputs": [
    {
     "data": {
      "text/plain": [
       "array([ 1,  2,  3,  4,  5,  6,  7,  8,  9, 10, 11, 12, 13, 14, 15, 16, 17,\n",
       "       18, 19, 20, 21, 22, 23, 24, 25])"
      ]
     },
     "execution_count": 19,
     "metadata": {},
     "output_type": "execute_result"
    }
   ],
   "source": [
    "np.arange(1,26)"
   ]
  },
  {
   "cell_type": "code",
   "execution_count": 20,
   "id": "32bedba6-71c0-4afa-abca-1c063cbbd2de",
   "metadata": {},
   "outputs": [
    {
     "data": {
      "text/plain": [
       "array([[ 1,  2,  3,  4,  5],\n",
       "       [ 6,  7,  8,  9, 10],\n",
       "       [11, 12, 13, 14, 15],\n",
       "       [16, 17, 18, 19, 20],\n",
       "       [21, 22, 23, 24, 25]])"
      ]
     },
     "execution_count": 20,
     "metadata": {},
     "output_type": "execute_result"
    }
   ],
   "source": [
    "np.arange(1,26).reshape(5,5)"
   ]
  },
  {
   "cell_type": "code",
   "execution_count": 21,
   "id": "75dbfc0d-d113-4df9-9be2-eeedcc6edc47",
   "metadata": {},
   "outputs": [],
   "source": [
    "matriz2 = np.arange(1,26).reshape(5,5)"
   ]
  },
  {
   "cell_type": "code",
   "execution_count": 22,
   "id": "ce10036b-6a8a-45c4-965b-d67e7a70c281",
   "metadata": {},
   "outputs": [
    {
     "name": "stdout",
     "output_type": "stream",
     "text": [
      "[[ 1  2  3  4  5]\n",
      " [ 6  7  8  9 10]\n",
      " [11 12 13 14 15]\n",
      " [16 17 18 19 20]\n",
      " [21 22 23 24 25]]\n"
     ]
    }
   ],
   "source": [
    "print(matriz2)"
   ]
  },
  {
   "cell_type": "code",
   "execution_count": 23,
   "id": "053d503d-048f-4b5d-a39d-4481d0a1c106",
   "metadata": {},
   "outputs": [
    {
     "data": {
      "text/plain": [
       "array([12, 13, 14])"
      ]
     },
     "execution_count": 23,
     "metadata": {},
     "output_type": "execute_result"
    }
   ],
   "source": [
    "matriz2 [2][1:4]"
   ]
  },
  {
   "cell_type": "code",
   "execution_count": 24,
   "id": "4f3fba90-8e42-43f6-b1df-fb6df470c3da",
   "metadata": {},
   "outputs": [
    {
     "data": {
      "text/plain": [
       "array([14, 19])"
      ]
     },
     "execution_count": 24,
     "metadata": {},
     "output_type": "execute_result"
    }
   ],
   "source": [
    "matriz2[2:4, 3]"
   ]
  },
  {
   "cell_type": "markdown",
   "id": "3f81bb01-d60f-4011-8594-4853df2f673b",
   "metadata": {},
   "source": [
    "# CALCULO DE POTENCIA\n",
    "$4 ^ 5$"
   ]
  },
  {
   "cell_type": "code",
   "execution_count": 26,
   "id": "b0ee8cb6-e90d-43c7-9d24-e7d110e8cf74",
   "metadata": {},
   "outputs": [
    {
     "data": {
      "text/plain": [
       "1024"
      ]
     },
     "execution_count": 26,
     "metadata": {},
     "output_type": "execute_result"
    }
   ],
   "source": [
    "np.power(4,5)"
   ]
  },
  {
   "cell_type": "markdown",
   "id": "9c5da78d-64cb-4900-9329-b47510991123",
   "metadata": {},
   "source": [
    "# Calculo de raiz quadrada\n",
    "$\\sqrt81$"
   ]
  },
  {
   "cell_type": "code",
   "execution_count": 28,
   "id": "4db3603f-6d74-4151-bae8-450ca402e0b8",
   "metadata": {},
   "outputs": [
    {
     "data": {
      "text/plain": [
       "9.0"
      ]
     },
     "execution_count": 28,
     "metadata": {},
     "output_type": "execute_result"
    }
   ],
   "source": [
    "np.sqrt(81)"
   ]
  },
  {
   "cell_type": "code",
   "execution_count": 29,
   "id": "24492c04-e7ed-451d-b4d7-59f4ec5220b1",
   "metadata": {},
   "outputs": [
    {
     "data": {
      "text/plain": [
       "array([5., 3., 1.])"
      ]
     },
     "execution_count": 29,
     "metadata": {},
     "output_type": "execute_result"
    }
   ],
   "source": [
    "A = np.array([[1,2,1],[1,-3,5],[2,-1,3]])\n",
    "b = np.array([12,1,10])\n",
    "np.linalg.solve(A,b)"
   ]
  },
  {
   "cell_type": "markdown",
   "id": "e2468753-d49d-4737-9648-ac4ec46364c2",
   "metadata": {},
   "source": [
    "# multiplicacao de matrizes"
   ]
  },
  {
   "cell_type": "code",
   "execution_count": 31,
   "id": "8823dd12-443b-444e-98d6-66447304c373",
   "metadata": {},
   "outputs": [],
   "source": [
    "A = np.array([[1,2,1],[1,-3,5],[2,-1,3]])\n",
    "B = np.array([[8,0,1],[-1,2,4],[0,-1,7]])"
   ]
  },
  {
   "cell_type": "code",
   "execution_count": 32,
   "id": "8e708c35-935b-46c4-ae31-7b108534b7da",
   "metadata": {},
   "outputs": [
    {
     "name": "stdout",
     "output_type": "stream",
     "text": [
      "[[ 1  2  1]\n",
      " [ 1 -3  5]\n",
      " [ 2 -1  3]]\n"
     ]
    }
   ],
   "source": [
    "print(A)"
   ]
  },
  {
   "cell_type": "code",
   "execution_count": 33,
   "id": "dc503932-a826-4409-ad9a-626c260686b2",
   "metadata": {},
   "outputs": [
    {
     "name": "stdout",
     "output_type": "stream",
     "text": [
      "[[ 8  0  1]\n",
      " [-1  2  4]\n",
      " [ 0 -1  7]]\n"
     ]
    }
   ],
   "source": [
    "print(B)"
   ]
  },
  {
   "cell_type": "code",
   "execution_count": 34,
   "id": "ca81d042-60ac-4ed7-93c2-ae5df9ea5ec7",
   "metadata": {},
   "outputs": [
    {
     "data": {
      "text/plain": [
       "array([[  6,   3,  16],\n",
       "       [ 11, -11,  24],\n",
       "       [ 17,  -5,  19]])"
      ]
     },
     "execution_count": 34,
     "metadata": {},
     "output_type": "execute_result"
    }
   ],
   "source": [
    "np.matmul(A,B)"
   ]
  },
  {
   "cell_type": "code",
   "execution_count": 35,
   "id": "b41d41da-9aaa-4613-961c-80744da0fa51",
   "metadata": {},
   "outputs": [
    {
     "data": {
      "text/plain": [
       "array([[ 8,  0,  1],\n",
       "       [-1, -6, 20],\n",
       "       [ 0,  1, 21]])"
      ]
     },
     "execution_count": 35,
     "metadata": {},
     "output_type": "execute_result"
    }
   ],
   "source": [
    "A*B # = np.multiply"
   ]
  },
  {
   "cell_type": "code",
   "execution_count": 36,
   "id": "617384cd-752e-4dd8-9388-4962aaecf8af",
   "metadata": {},
   "outputs": [
    {
     "data": {
      "text/plain": [
       "array([[ 9,  2,  2],\n",
       "       [ 0, -1,  9],\n",
       "       [ 2, -2, 10]])"
      ]
     },
     "execution_count": 36,
     "metadata": {},
     "output_type": "execute_result"
    }
   ],
   "source": [
    "A + B"
   ]
  },
  {
   "cell_type": "code",
   "execution_count": 37,
   "id": "06f63dec-afd9-40c1-a6d4-77461efdd6f8",
   "metadata": {},
   "outputs": [
    {
     "data": {
      "text/plain": [
       "array([[-7,  2,  0],\n",
       "       [ 2, -5,  1],\n",
       "       [ 2,  0, -4]])"
      ]
     },
     "execution_count": 37,
     "metadata": {},
     "output_type": "execute_result"
    }
   ],
   "source": [
    "A - B"
   ]
  },
  {
   "cell_type": "code",
   "execution_count": 38,
   "id": "5c7d09c5-90cf-43aa-8176-afabc6384cb8",
   "metadata": {},
   "outputs": [
    {
     "data": {
      "text/plain": [
       "array([[  6,   3,  16],\n",
       "       [ 11, -11,  24],\n",
       "       [ 17,  -5,  19]])"
      ]
     },
     "execution_count": 38,
     "metadata": {},
     "output_type": "execute_result"
    }
   ],
   "source": [
    "A @ B  # = np.matmul"
   ]
  },
  {
   "cell_type": "markdown",
   "id": "46de19b6-4888-4273-88b6-90518711bd3c",
   "metadata": {},
   "source": [
    "# CRIAR MATRIZES DE 0 E 1"
   ]
  },
  {
   "cell_type": "code",
   "execution_count": 40,
   "id": "e4fb3f78-084b-4869-920e-9ad3a706a4a4",
   "metadata": {},
   "outputs": [
    {
     "data": {
      "text/plain": [
       "array([0., 0., 0., 0.])"
      ]
     },
     "execution_count": 40,
     "metadata": {},
     "output_type": "execute_result"
    }
   ],
   "source": [
    "np.zeros(4)"
   ]
  },
  {
   "cell_type": "code",
   "execution_count": 41,
   "id": "15325adc-51bc-43f5-bb22-582c5fabc6a0",
   "metadata": {},
   "outputs": [
    {
     "data": {
      "text/plain": [
       "array([[0., 0., 0., 0.],\n",
       "       [0., 0., 0., 0.],\n",
       "       [0., 0., 0., 0.],\n",
       "       [0., 0., 0., 0.]])"
      ]
     },
     "execution_count": 41,
     "metadata": {},
     "output_type": "execute_result"
    }
   ],
   "source": [
    "np.zeros((4,4))"
   ]
  },
  {
   "cell_type": "code",
   "execution_count": 42,
   "id": "a81cedba-37a8-4bf7-ac1c-2ea64dd2c1c5",
   "metadata": {},
   "outputs": [
    {
     "data": {
      "text/plain": [
       "array([[1., 1., 1., 1., 1.],\n",
       "       [1., 1., 1., 1., 1.],\n",
       "       [1., 1., 1., 1., 1.],\n",
       "       [1., 1., 1., 1., 1.],\n",
       "       [1., 1., 1., 1., 1.]])"
      ]
     },
     "execution_count": 42,
     "metadata": {},
     "output_type": "execute_result"
    }
   ],
   "source": [
    "np.ones((5,5))"
   ]
  },
  {
   "cell_type": "code",
   "execution_count": 43,
   "id": "d7ea6250-a32b-4c09-8323-fdb254b6bf57",
   "metadata": {},
   "outputs": [
    {
     "data": {
      "text/plain": [
       "array([[1., 0., 0., 0.],\n",
       "       [0., 1., 0., 0.],\n",
       "       [0., 0., 1., 0.],\n",
       "       [0., 0., 0., 1.]])"
      ]
     },
     "execution_count": 43,
     "metadata": {},
     "output_type": "execute_result"
    }
   ],
   "source": [
    "np.eye(4)  # matriz identidade"
   ]
  },
  {
   "cell_type": "markdown",
   "id": "75c34ec6-2cc9-44d7-b66e-a6ba43d357c5",
   "metadata": {},
   "source": [
    "# NUMEROS ALEATORIOS"
   ]
  },
  {
   "cell_type": "code",
   "execution_count": 45,
   "id": "b3bee20a-1d5f-4fa2-845a-3996295fae99",
   "metadata": {},
   "outputs": [
    {
     "data": {
      "text/plain": [
       "251"
      ]
     },
     "execution_count": 45,
     "metadata": {},
     "output_type": "execute_result"
    }
   ],
   "source": [
    "np.random.randint(1,300)"
   ]
  },
  {
   "cell_type": "code",
   "execution_count": 46,
   "id": "5176d3e9-1f2d-41c6-af78-a49ed9447d13",
   "metadata": {},
   "outputs": [
    {
     "data": {
      "text/plain": [
       "1.4029098755905645"
      ]
     },
     "execution_count": 46,
     "metadata": {},
     "output_type": "execute_result"
    }
   ],
   "source": [
    "np.random.standard_normal()"
   ]
  },
  {
   "cell_type": "markdown",
   "id": "baa0a289-541d-43d8-bf1a-426bdea8c706",
   "metadata": {},
   "source": [
    "# TUPLAS E DICIONARIOS"
   ]
  },
  {
   "cell_type": "markdown",
   "id": "6607f74e-e80c-445d-80f7-6750fb19e213",
   "metadata": {},
   "source": [
    "## TUPLAS"
   ]
  },
  {
   "cell_type": "code",
   "execution_count": 49,
   "id": "71c3adfd-c93d-4d21-a0b7-e7772b18d5ea",
   "metadata": {},
   "outputs": [],
   "source": [
    "dias_semana = ('segunda', 'terca', 'quarta', 'quinta', 'sexta', 'sabado', 'domingo') #tuplas () não se alteram"
   ]
  },
  {
   "cell_type": "code",
   "execution_count": 50,
   "id": "dc2cb53e-e574-4caf-b2b5-b1b714326275",
   "metadata": {},
   "outputs": [],
   "source": [
    "lista_dias_semana = ['segunda', 'terca', 'quarta', 'quinta', 'sexta', 'sabado', 'domingo'] # LISTA [] se altera"
   ]
  },
  {
   "cell_type": "code",
   "execution_count": 51,
   "id": "70321f50-4378-4502-bf79-280ed5d258bd",
   "metadata": {},
   "outputs": [],
   "source": [
    "lista_dias_semana[0] = 'segunda alterada'"
   ]
  },
  {
   "cell_type": "code",
   "execution_count": 52,
   "id": "15b0a5fc-4236-4ce4-9471-60c4e5a74075",
   "metadata": {},
   "outputs": [
    {
     "data": {
      "text/plain": [
       "'segunda alterada'"
      ]
     },
     "execution_count": 52,
     "metadata": {},
     "output_type": "execute_result"
    }
   ],
   "source": [
    "lista_dias_semana [0]"
   ]
  },
  {
   "cell_type": "markdown",
   "id": "fcde3b50-781f-4278-990e-74f5b2ebb989",
   "metadata": {},
   "source": [
    "## DICIONARIO"
   ]
  },
  {
   "cell_type": "code",
   "execution_count": 54,
   "id": "1a940037-9851-4d9e-831c-727ddd6094d3",
   "metadata": {},
   "outputs": [],
   "source": [
    "#{} E VALORES"
   ]
  },
  {
   "cell_type": "code",
   "execution_count": 55,
   "id": "687707a9-2fdd-4282-bd39-9bd640e6f860",
   "metadata": {},
   "outputs": [
    {
     "name": "stdout",
     "output_type": "stream",
     "text": [
      "[0. 0. 0. 0.]\n",
      "[4. 8. 7. 7.]\n"
     ]
    }
   ],
   "source": [
    "array_notas = np.zeros(4)\n",
    "print(array_notas)\n",
    "for i in range(len(array_notas)):\n",
    "    array_notas[i] = np.random.randint(4,10)\n",
    "print(array_notas)"
   ]
  },
  {
   "cell_type": "code",
   "execution_count": 56,
   "id": "7be91289-b852-4117-9b45-59a832a4c8ad",
   "metadata": {},
   "outputs": [],
   "source": [
    "alunos = {'Alunos': ['Aluno1', 'Aluno2', 'Aluno3', 'Aluno4'], 'Notas':array_notas}"
   ]
  },
  {
   "cell_type": "code",
   "execution_count": 57,
   "id": "1df15ac5-be77-48b7-81d1-88410b0d8257",
   "metadata": {},
   "outputs": [
    {
     "data": {
      "text/plain": [
       "{'Alunos': ['Aluno1', 'Aluno2', 'Aluno3', 'Aluno4'],\n",
       " 'Notas': array([4., 8., 7., 7.])}"
      ]
     },
     "execution_count": 57,
     "metadata": {},
     "output_type": "execute_result"
    }
   ],
   "source": [
    "alunos"
   ]
  },
  {
   "cell_type": "code",
   "execution_count": 58,
   "id": "43b57a48-cc5a-4469-86ed-fbe3eb9382c9",
   "metadata": {},
   "outputs": [
    {
     "data": {
      "text/plain": [
       "dict_keys(['Alunos', 'Notas'])"
      ]
     },
     "execution_count": 58,
     "metadata": {},
     "output_type": "execute_result"
    }
   ],
   "source": [
    "alunos.keys()"
   ]
  },
  {
   "cell_type": "code",
   "execution_count": 59,
   "id": "cbd28936-db73-482d-bc27-463af8dc745c",
   "metadata": {},
   "outputs": [
    {
     "name": "stdout",
     "output_type": "stream",
     "text": [
      "['Aluno1', 'Aluno2', 'Aluno3', 'Aluno4']\n",
      "[4. 8. 7. 7.]\n"
     ]
    }
   ],
   "source": [
    "for chave in alunos.keys():\n",
    "    print (alunos[chave])"
   ]
  },
  {
   "cell_type": "code",
   "execution_count": 60,
   "id": "ea3099c7-b7ec-4191-9854-2802f37db93f",
   "metadata": {},
   "outputs": [
    {
     "name": "stdout",
     "output_type": "stream",
     "text": [
      "O aluno Aluno1 possui a nota 4.0\n",
      "O aluno Aluno2 possui a nota 8.0\n",
      "O aluno Aluno3 possui a nota 7.0\n",
      "O aluno Aluno4 possui a nota 7.0\n"
     ]
    }
   ],
   "source": [
    "for i in range(len(alunos['Alunos'])):\n",
    "    print(f\"O aluno {alunos['Alunos'][i]} possui a nota {alunos['Notas'][i]}\")"
   ]
  },
  {
   "cell_type": "code",
   "execution_count": 61,
   "id": "5fb2c5e5-3df2-46b1-be9f-a6a14aa32d23",
   "metadata": {},
   "outputs": [],
   "source": [
    "from Funcoes import utilizacaoContrato"
   ]
  },
  {
   "cell_type": "code",
   "execution_count": 62,
   "id": "29200b48-5b4a-4238-9d3b-7148d1056be6",
   "metadata": {},
   "outputs": [
    {
     "name": "stdout",
     "output_type": "stream",
     "text": [
      "Contrato em Andamento, uso entre 5% e 90%\n"
     ]
    },
    {
     "data": {
      "text/plain": [
       "(15.0, 8500)"
      ]
     },
     "execution_count": 62,
     "metadata": {},
     "output_type": "execute_result"
    }
   ],
   "source": [
    "utilizacaoContrato(10000, 500, 1000)"
   ]
  },
  {
   "cell_type": "code",
   "execution_count": null,
   "id": "95bdc232-ee94-488d-afa9-9a0c8ce230cb",
   "metadata": {},
   "outputs": [],
   "source": []
  }
 ],
 "metadata": {
  "kernelspec": {
   "display_name": "Python 3 (ipykernel)",
   "language": "python",
   "name": "python3"
  },
  "language_info": {
   "codemirror_mode": {
    "name": "ipython",
    "version": 3
   },
   "file_extension": ".py",
   "mimetype": "text/x-python",
   "name": "python",
   "nbconvert_exporter": "python",
   "pygments_lexer": "ipython3",
   "version": "3.12.4"
  }
 },
 "nbformat": 4,
 "nbformat_minor": 5
}
